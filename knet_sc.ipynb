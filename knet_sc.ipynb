{
 "cells": [
  {
   "cell_type": "code",
   "execution_count": 125,
   "metadata": {
    "collapsed": true
   },
   "outputs": [],
   "source": [
    "#スクレイピング\n",
    "import requests\n",
    "from bs4 import BeautifulSoup"
   ]
  },
  {
   "cell_type": "code",
   "execution_count": 126,
   "metadata": {
    "collapsed": true
   },
   "outputs": [],
   "source": [
    "html = requests.get('http://sch.e-msg.jp/knet/index.html')"
   ]
  },
  {
   "cell_type": "code",
   "execution_count": 127,
   "metadata": {},
   "outputs": [],
   "source": [
    "soup = BeautifulSoup(html.content, \"lxml\")"
   ]
  },
  {
   "cell_type": "code",
   "execution_count": 128,
   "metadata": {},
   "outputs": [],
   "source": [
    "tips = soup.find(\"div\",{\"id\":\"left-column\"})"
   ]
  },
  {
   "cell_type": "code",
   "execution_count": 129,
   "metadata": {},
   "outputs": [
    {
     "name": "stdout",
     "output_type": "stream",
     "text": [
      "\n",
      "今日の予定\n",
      "\n",
      "      2017年8月19日\n",
      "特別な連絡はありません。\n",
      "    \n"
     ]
    }
   ],
   "source": [
    "t = (soup.find(\"fieldset\"))\n",
    "k = t.find(\"p\").extract()\n",
    "text = t.get_text()\n",
    "print(text)"
   ]
  },
  {
   "cell_type": "code",
   "execution_count": 130,
   "metadata": {},
   "outputs": [],
   "source": [
    "#ツイート\n",
    "from requests_oauthlib import OAuth1Session"
   ]
  },
  {
   "cell_type": "code",
   "execution_count": 131,
   "metadata": {},
   "outputs": [
    {
     "name": "stdout",
     "output_type": "stream",
     "text": [
      "Error: 403\n"
     ]
    }
   ],
   "source": [
    "Consumer_Key = '****************************'                             # Consumer Key\n",
    "Consumer_Secret = '*****************************'         # Consumer Secret\n",
    "Access_Token = '1******:**********************' # Access Token\n",
    "Accesss_Token_Secert = '*******************************'         # Accesss Token Secert\n",
    "url = \"https://api.twitter.com/1.1/statuses/update.json\"\n",
    "params = {\"status\": text}\n",
    "twitter = OAuth1Session(Consumer_Key, Consumer_Secret, Access_Token, Accesss_Token_Secert)\n",
    "req = twitter.post(url, params = params)"
   ]
  }
 ],
 "metadata": {
  "kernelspec": {
   "display_name": "Python 3",
   "language": "python",
   "name": "python3"
  },
  "language_info": {
   "codemirror_mode": {
    "name": "ipython",
    "version": 3
   },
   "file_extension": ".py",
   "mimetype": "text/x-python",
   "name": "python",
   "nbconvert_exporter": "python",
   "pygments_lexer": "ipython3",
   "version": "3.6.1"
  }
 },
 "nbformat": 4,
 "nbformat_minor": 2
}
